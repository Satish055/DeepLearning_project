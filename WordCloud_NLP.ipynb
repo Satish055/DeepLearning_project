{
  "nbformat": 4,
  "nbformat_minor": 0,
  "metadata": {
    "colab": {
      "provenance": [],
      "authorship_tag": "ABX9TyMf4CDTi8803W2iEX+ewaBd",
      "include_colab_link": true
    },
    "kernelspec": {
      "name": "python3",
      "display_name": "Python 3"
    },
    "language_info": {
      "name": "python"
    }
  },
  "cells": [
    {
      "cell_type": "markdown",
      "metadata": {
        "id": "view-in-github",
        "colab_type": "text"
      },
      "source": [
        "<a href=\"https://colab.research.google.com/github/Satish055/DeepLearning_project/blob/main/WordCloud_NLP.ipynb\" target=\"_parent\"><img src=\"https://colab.research.google.com/assets/colab-badge.svg\" alt=\"Open In Colab\"/></a>"
      ]
    },
    {
      "cell_type": "code",
      "execution_count": 2,
      "metadata": {
        "id": "EF_3UlJOy5Y1"
      },
      "outputs": [],
      "source": [
        "##  Working with Natural languages: NLP\n",
        "# 1. Install nltk library for NLP processing\n",
        "# pip install nltk\n",
        "# 2. Import nltk\n",
        "# 3. convert everything to same case: I prefer lower case\n",
        "# 4. word tokenize or sentence tokenize: breaking entire content into different sentences and/or words\n",
        "# 5. Removal of stop words: stop words are words that dont give much of a meaning\n",
        "# 6. Stemming: convert words into their root form\n",
        "# 7. POS tagging (Part of Speech)"
      ]
    },
    {
      "cell_type": "code",
      "source": [
        "!pip install nltk"
      ],
      "metadata": {
        "colab": {
          "base_uri": "https://localhost:8080/"
        },
        "id": "dwiNItZkzN2d",
        "outputId": "cdfb7a39-d47c-430c-c587-23ee4036c5fe"
      },
      "execution_count": 3,
      "outputs": [
        {
          "output_type": "stream",
          "name": "stdout",
          "text": [
            "Requirement already satisfied: nltk in /usr/local/lib/python3.11/dist-packages (3.9.1)\n",
            "Requirement already satisfied: click in /usr/local/lib/python3.11/dist-packages (from nltk) (8.1.8)\n",
            "Requirement already satisfied: joblib in /usr/local/lib/python3.11/dist-packages (from nltk) (1.4.2)\n",
            "Requirement already satisfied: regex>=2021.8.3 in /usr/local/lib/python3.11/dist-packages (from nltk) (2024.11.6)\n",
            "Requirement already satisfied: tqdm in /usr/local/lib/python3.11/dist-packages (from nltk) (4.67.1)\n"
          ]
        }
      ]
    },
    {
      "cell_type": "code",
      "source": [
        "# Importing NLTK\n",
        "import nltk\n",
        "text = '''Product is gREAT. thought coloring products but I amn't liking the colors of it. as I am\n",
        "thinking they are worst'''\n",
        "text = text.lower()\n",
        "print(\"After lower case: \\n\",text)"
      ],
      "metadata": {
        "colab": {
          "base_uri": "https://localhost:8080/"
        },
        "id": "l1Fh3x3zzTZ2",
        "outputId": "76b51cf9-706a-4265-dbd2-eb97f596efe8"
      },
      "execution_count": 4,
      "outputs": [
        {
          "output_type": "stream",
          "name": "stdout",
          "text": [
            "After lower case: \n",
            " product is great. thought coloring products but i amn't liking the colors of it. as i am\n",
            "thinking they are worst\n"
          ]
        }
      ]
    },
    {
      "cell_type": "code",
      "source": [
        "text_str = text.split()\n",
        "print(\"After string split: \\n\",text_str)"
      ],
      "metadata": {
        "colab": {
          "base_uri": "https://localhost:8080/"
        },
        "id": "gayX-ZEEzesB",
        "outputId": "c9984c64-005c-4f6e-9391-dc81830a4d2f"
      },
      "execution_count": 5,
      "outputs": [
        {
          "output_type": "stream",
          "name": "stdout",
          "text": [
            "After string split: \n",
            " ['product', 'is', 'great.', 'thought', 'coloring', 'products', 'but', 'i', \"amn't\", 'liking', 'the', 'colors', 'of', 'it.', 'as', 'i', 'am', 'thinking', 'they', 'are', 'worst']\n"
          ]
        }
      ]
    },
    {
      "cell_type": "code",
      "source": [
        "# word tokenize using nltk\n",
        "from nltk.tokenize import sent_tokenize, word_tokenize\n",
        "print(\"Sentence tokenize: \\n\",sent_tokenize(text))\n",
        "text_nltk = word_tokenize(text)\n",
        "print(\"Words after nltk:\\n\",text_nltk)"
      ],
      "metadata": {
        "colab": {
          "base_uri": "https://localhost:8080/"
        },
        "id": "rsWKWVK2zg72",
        "outputId": "bef2b1e1-dd3d-4fd4-f8c5-4f20487db1a1"
      },
      "execution_count": 8,
      "outputs": [
        {
          "output_type": "stream",
          "name": "stdout",
          "text": [
            "Sentence tokenize: \n",
            " ['product is great.', \"thought coloring products but i amn't liking the colors of it.\", 'as i am\\nthinking they are worst']\n",
            "Words after nltk:\n",
            " ['product', 'is', 'great', '.', 'thought', 'coloring', 'products', 'but', 'i', 'am', \"n't\", 'liking', 'the', 'colors', 'of', 'it', '.', 'as', 'i', 'am', 'thinking', 'they', 'are', 'worst']\n"
          ]
        }
      ]
    },
    {
      "cell_type": "code",
      "source": [
        "import nltk\n",
        "nltk.download('punkt_tab')"
      ],
      "metadata": {
        "colab": {
          "base_uri": "https://localhost:8080/"
        },
        "id": "ZEBaO5cpzx2j",
        "outputId": "3a28ccc2-701b-4cc1-c0e4-89b290875692"
      },
      "execution_count": 7,
      "outputs": [
        {
          "output_type": "stream",
          "name": "stderr",
          "text": [
            "[nltk_data] Downloading package punkt_tab to /root/nltk_data...\n",
            "[nltk_data]   Unzipping tokenizers/punkt_tab.zip.\n"
          ]
        },
        {
          "output_type": "execute_result",
          "data": {
            "text/plain": [
              "True"
            ]
          },
          "metadata": {},
          "execution_count": 7
        }
      ]
    },
    {
      "cell_type": "code",
      "source": [
        "# MANUAL STOP WORDS\n",
        "our_stopwords = {'is','i','the','.','am','of','are','it','they','as'}\n",
        "text2 = text_nltk\n",
        "for w in list(text2):\n",
        "    if w in our_stopwords:\n",
        "        count_w = text2.count(w)\n",
        "        for j in range(count_w):\n",
        "            text2.remove(w)\n",
        "print(\"Text after removal of our stop words:\\n\",text2)"
      ],
      "metadata": {
        "colab": {
          "base_uri": "https://localhost:8080/"
        },
        "id": "OY7B8uJAz4A3",
        "outputId": "b0fdd2ce-3eec-4437-81b4-7656338ae0d5"
      },
      "execution_count": 9,
      "outputs": [
        {
          "output_type": "stream",
          "name": "stdout",
          "text": [
            "Text after removal of our stop words:\n",
            " ['product', 'great', 'thought', 'coloring', 'products', 'but', \"n't\", 'liking', 'colors', 'thinking', 'worst']\n"
          ]
        }
      ]
    },
    {
      "cell_type": "code",
      "source": [
        "# Download\n",
        "from nltk.corpus import stopwords\n",
        "'''\n",
        "Download the stopword-\n",
        "nltk.download('stopwords')\n",
        "'''"
      ],
      "metadata": {
        "colab": {
          "base_uri": "https://localhost:8080/",
          "height": 35
        },
        "id": "QAsWekn40D1i",
        "outputId": "e033617c-9adf-444e-a8cd-69d9ba1c32fb"
      },
      "execution_count": 10,
      "outputs": [
        {
          "output_type": "execute_result",
          "data": {
            "text/plain": [
              "\"\\nDownload the stopword-\\nnltk.download('stopwords')\\n\""
            ],
            "application/vnd.google.colaboratory.intrinsic+json": {
              "type": "string"
            }
          },
          "metadata": {},
          "execution_count": 10
        }
      ]
    },
    {
      "cell_type": "code",
      "source": [
        "nltk.download('stopwords')"
      ],
      "metadata": {
        "colab": {
          "base_uri": "https://localhost:8080/"
        },
        "id": "wPKTi9LM0UWP",
        "outputId": "eb96fc91-bc95-41f9-dde3-8fa2e0ae94a5"
      },
      "execution_count": 11,
      "outputs": [
        {
          "output_type": "stream",
          "name": "stderr",
          "text": [
            "[nltk_data] Downloading package stopwords to /root/nltk_data...\n",
            "[nltk_data]   Unzipping corpora/stopwords.zip.\n"
          ]
        },
        {
          "output_type": "execute_result",
          "data": {
            "text/plain": [
              "True"
            ]
          },
          "metadata": {},
          "execution_count": 11
        }
      ]
    },
    {
      "cell_type": "code",
      "source": [
        "nltk_stopwords = set(stopwords.words(\"english\"))\n",
        "nltk_stopwords.remove(\"but\")\n",
        "text2 = text_nltk\n",
        "for w in list(text2):\n",
        "    if w in nltk_stopwords:\n",
        "        count_w = text2.count(w)\n",
        "        for j in range(count_w):\n",
        "            text2.remove(w)\n",
        "print(\"Text after removal of nltk stop words:\\n\",text2)"
      ],
      "metadata": {
        "colab": {
          "base_uri": "https://localhost:8080/"
        },
        "id": "3esoKE3h0aF8",
        "outputId": "6922844d-c235-4511-eedc-ecc9eac7c994"
      },
      "execution_count": 12,
      "outputs": [
        {
          "output_type": "stream",
          "name": "stdout",
          "text": [
            "Text after removal of nltk stop words:\n",
            " ['product', 'great', 'thought', 'coloring', 'products', 'but', \"n't\", 'liking', 'colors', 'thinking', 'worst']\n"
          ]
        }
      ]
    },
    {
      "cell_type": "code",
      "source": [
        "# find the tag of each of the words\n",
        "text4 = nltk.pos_tag(text2)\n",
        "print(\"POS tags of each words before stemming:\\n\",text4)"
      ],
      "metadata": {
        "colab": {
          "base_uri": "https://localhost:8080/"
        },
        "id": "FHZ9AKn_0dxE",
        "outputId": "39f58522-5148-4ec9-e099-13c2b5690aa7"
      },
      "execution_count": 15,
      "outputs": [
        {
          "output_type": "stream",
          "name": "stdout",
          "text": [
            "POS tags of each words before stemming:\n",
            " [('product', 'NN'), ('great', 'JJ'), ('thought', 'JJ'), ('coloring', 'NN'), ('products', 'NNS'), ('but', 'CC'), (\"n't\", 'RB'), ('liking', 'JJ'), ('colors', 'NNS'), ('thinking', 'VBG'), ('worst', 'JJS')]\n"
          ]
        }
      ]
    },
    {
      "cell_type": "code",
      "source": [
        "nltk.download('averaged_perceptron_tagger_eng')"
      ],
      "metadata": {
        "colab": {
          "base_uri": "https://localhost:8080/"
        },
        "id": "75mHdT3R0taG",
        "outputId": "6669297f-91ea-40d9-cf2d-17fa773ed273"
      },
      "execution_count": 14,
      "outputs": [
        {
          "output_type": "stream",
          "name": "stderr",
          "text": [
            "[nltk_data] Downloading package averaged_perceptron_tagger_eng to\n",
            "[nltk_data]     /root/nltk_data...\n",
            "[nltk_data]   Unzipping taggers/averaged_perceptron_tagger_eng.zip.\n"
          ]
        },
        {
          "output_type": "execute_result",
          "data": {
            "text/plain": [
              "True"
            ]
          },
          "metadata": {},
          "execution_count": 14
        }
      ]
    },
    {
      "cell_type": "code",
      "source": [
        "# stemming\n",
        "from nltk.stem import PorterStemmer\n",
        "stemmer = PorterStemmer()\n",
        "text3 = [stemmer.stem(word) for word in text2]\n",
        "print(\"Text after stemming:\\n\",text3)"
      ],
      "metadata": {
        "colab": {
          "base_uri": "https://localhost:8080/"
        },
        "id": "hSRU3bcp0xkX",
        "outputId": "0852a32d-cf77-47c3-abf8-d465c05fa65d"
      },
      "execution_count": 16,
      "outputs": [
        {
          "output_type": "stream",
          "name": "stdout",
          "text": [
            "Text after stemming:\n",
            " ['product', 'great', 'thought', 'color', 'product', 'but', \"n't\", 'like', 'color', 'think', 'worst']\n"
          ]
        }
      ]
    },
    {
      "cell_type": "code",
      "source": [
        "# find the tag of each of the words\n",
        "text4 = nltk.pos_tag(text3)\n",
        "print(\"POS tags of each words after stemming:\\n\",text4)"
      ],
      "metadata": {
        "colab": {
          "base_uri": "https://localhost:8080/"
        },
        "id": "kUyHvS8i01PC",
        "outputId": "0b59f1e2-07ba-40ad-dba0-e9c3eb1f4824"
      },
      "execution_count": 17,
      "outputs": [
        {
          "output_type": "stream",
          "name": "stdout",
          "text": [
            "POS tags of each words after stemming:\n",
            " [('product', 'NN'), ('great', 'JJ'), ('thought', 'JJ'), ('color', 'NN'), ('product', 'NN'), ('but', 'CC'), (\"n't\", 'RB'), ('like', 'IN'), ('color', 'NN'), ('think', 'VBP'), ('worst', 'JJS')]\n"
          ]
        }
      ]
    },
    {
      "cell_type": "code",
      "source": [
        "# POS tag\n",
        "from nltk.tag import DefaultTagger\n",
        "py_tag = DefaultTagger('NN')\n",
        "tag_txt = py_tag.tag(text3)\n",
        "print(\"After Default Tag: \\n\",tag_txt)"
      ],
      "metadata": {
        "colab": {
          "base_uri": "https://localhost:8080/"
        },
        "id": "vkLCuHXS036x",
        "outputId": "79de424f-4c50-4bdf-a495-d684c2207381"
      },
      "execution_count": 18,
      "outputs": [
        {
          "output_type": "stream",
          "name": "stdout",
          "text": [
            "After Default Tag: \n",
            " [('product', 'NN'), ('great', 'NN'), ('thought', 'NN'), ('color', 'NN'), ('product', 'NN'), ('but', 'NN'), (\"n't\", 'NN'), ('like', 'NN'), ('color', 'NN'), ('think', 'NN'), ('worst', 'NN')]\n"
          ]
        }
      ]
    }
  ]
}